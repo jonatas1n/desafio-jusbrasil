{
 "cells": [
  {
   "cell_type": "code",
   "execution_count": 8,
   "metadata": {},
   "outputs": [],
   "source": [
    "import json\n",
    "import pandas as pd"
   ]
  },
  {
   "cell_type": "code",
   "execution_count": 9,
   "metadata": {},
   "outputs": [],
   "source": [
    "with open('./database.json') as fl:\n",
    "    database = json.load(fl)"
   ]
  },
  {
   "cell_type": "code",
   "execution_count": 12,
   "metadata": {},
   "outputs": [],
   "source": [
    "judgeBody_list = []\n",
    "judgeClass_list = []\n",
    "court_list = []\n",
    "for item in database:\n",
    "    judgeBody_list.append(item['judgeBody'])\n",
    "    judgeClass_list.append(item['judgeClass'])\n",
    "    court_list.append(item['court'])\n"
   ]
  },
  {
   "cell_type": "code",
   "execution_count": 13,
   "metadata": {},
   "outputs": [],
   "source": [
    "judgeBody_list = list(dict.fromkeys(judgeBody_list).keys())\n",
    "judgeClass_list = list(dict.fromkeys(judgeClass_list).keys())\n",
    "court_list = list(dict.fromkeys(court_list).keys())"
   ]
  },
  {
   "cell_type": "code",
   "execution_count": 19,
   "metadata": {},
   "outputs": [],
   "source": [
    "with open('./judgeBody.json', 'w+') as fl:\n",
    "    json.dump(judgeBody_list, fl)\n",
    "    \n",
    "with open('./judgeClass.json', 'w+') as fl:\n",
    "    json.dump(judgeClass_list, fl)\n",
    "\n",
    "with open('./court.json', 'w+') as fl:\n",
    "    json.dump(court_list, fl)"
   ]
  }
 ],
 "metadata": {
  "kernelspec": {
   "display_name": "Python 3.10.7 64-bit",
   "language": "python",
   "name": "python3"
  },
  "language_info": {
   "codemirror_mode": {
    "name": "ipython",
    "version": 3
   },
   "file_extension": ".py",
   "mimetype": "text/x-python",
   "name": "python",
   "nbconvert_exporter": "python",
   "pygments_lexer": "ipython3",
   "version": "3.10.7"
  },
  "orig_nbformat": 4,
  "vscode": {
   "interpreter": {
    "hash": "e7370f93d1d0cde622a1f8e1c04877d8463912d04d973331ad4851f04de6915a"
   }
  }
 },
 "nbformat": 4,
 "nbformat_minor": 2
}
