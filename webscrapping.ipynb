{
 "cells": [
  {
   "cell_type": "markdown",
   "metadata": {},
   "source": [
    "# Recuperação de Processos\n",
    "É descrito aqui o modelo de recuperação dos processos e seus dados para população do banco."
   ]
  },
  {
   "cell_type": "code",
   "execution_count": 2,
   "metadata": {},
   "outputs": [],
   "source": [
    "from selenium import webdriver\n",
    "from selenium.webdriver.common.keys import Keys\n",
    "from selenium.webdriver.common.by import By\n",
    "from selenium.webdriver.support.ui import WebDriverWait, Select\n",
    "from selenium.webdriver.support import expected_conditions as EC\n",
    "import requests, os, re, json\n",
    "from PyPDF2 import PdfReader\n",
    "from time import sleep"
   ]
  },
  {
   "cell_type": "markdown",
   "metadata": {},
   "source": [
    "## Coleta de nomes de advogados\n",
    "Para obter os processos, é necessária uma chave de busca nos portais de consulta processual do país. Houve uma tentativa inicial, tentando gerar de forma aleatória várias códigos CNJ, mas essa implementação se mostrou custosa e pouco eficiente. \n",
    "\n",
    "Observando os processos, foi fácil ver que o ponto comum entre todos os processos é a presença de um advogado ou promotor de justiça. Dessa forma, o nome dos advogados se tornou chave para busca de processos, tornando necessária a listagem de advogados por cada estado.\n",
    "\n",
    "Assim, iniciou o processo de coleta dos nomes dos advogados a partir dos resultados dos exames da OAB."
   ]
  },
  {
   "cell_type": "code",
   "execution_count": 2,
   "metadata": {},
   "outputs": [],
   "source": [
    "driver = webdriver.Firefox()\n",
    "driver.get(\"https://oab.fgv.br/\")"
   ]
  },
  {
   "cell_type": "markdown",
   "metadata": {},
   "source": [
    "Inicialmente, os links para a página dos resultados são listados e acessados sequencialmente, seguido do download do último arquivo PDF disponível."
   ]
  },
  {
   "cell_type": "code",
   "execution_count": 5,
   "metadata": {},
   "outputs": [],
   "source": [
    "links = driver.find_elements(By.CSS_SELECTOR, \"ul li a\")\n",
    "links = [link.get_attribute('href') for link in links]\n",
    "\n",
    "for link in links:\n",
    "    driver.get(link)\n",
    "\n",
    "    select = Select(driver.find_element(By.CSS_SELECTOR, \"select\"))\n",
    "    select.select_by_visible_text('OAB / RJ')\n",
    "\n",
    "    files_list = driver.find_elements(By.CSS_SELECTOR, \"table tr a\")\n",
    "\n",
    "    if len(files_list) == 0:\n",
    "        continue\n",
    "\n",
    "    files_list = [file.get_attribute(\"href\") for file in files_list]\n",
    "    files_list = [file for file in files_list if file.endswith('.pdf')]\n",
    "\n",
    "    filename = files_list[0].split('/')[-1]\n",
    "    response = requests.get(files_list[0])\n",
    "    open(f\"oab_pdfs/{filename}\", \"wb\").write(response.content)"
   ]
  },
  {
   "cell_type": "markdown",
   "metadata": {},
   "source": [
    "Após o download dos arquivos em PDF, os textos são extraídos tratados e separados utilizando REGEX e alocados em um dicionário que separa os advogados por estado."
   ]
  },
  {
   "cell_type": "code",
   "execution_count": 87,
   "metadata": {},
   "outputs": [],
   "source": [
    "pdf_path = \"./oab_pdfs/\"\n",
    "pdf_list = os.listdir(pdf_path)\n",
    "\n",
    "names = {}\n",
    "\n",
    "for pdf_file in pdf_list:\n",
    "    pdf_obj = open(pdf_path+pdf_file, 'rb')\n",
    "    pdf_reader = PdfReader(pdf_obj)\n",
    "\n",
    "    all_text = \"\"\n",
    "    for i in range(pdf_reader.numPages):\n",
    "        page_obj = pdf_reader.getPage(i)\n",
    "        text = page_obj.extractText()\n",
    "        all_text += (text)\n",
    "        if all_text[-1] == ' ':\n",
    "            all_text = all_text[:-2]\n",
    "\n",
    "    all_text = all_text.replace(\"\\n\", \"\")\n",
    "    state_marks = re.findall(\"\\d*. OAB / \\w{2}\", all_text)\n",
    "    state_marks = [re.sub(\"\\d*. OAB /\", \"\", state) for state in state_marks]\n",
    "    \n",
    "    divisions = re.split(\"\\d*. OAB / \\w{2}\", all_text)\n",
    "    for i, division in enumerate(divisions):\n",
    "        division = re.sub(\"\\d.\\d. [A-Z] \", \"\", division)\n",
    "        division = division.split(\"/\")\n",
    "        for l, item in enumerate(division):\n",
    "            item = item.split(\",\")[-1]\n",
    "            item = item.replace(\".\", \"\")\n",
    "            item = item.replace(\"  \", \" \")\n",
    "            division[l] = item.strip()\n",
    "        divisions[i] = division\n",
    "\n",
    "    del divisions[0]\n",
    "\n",
    "    for i, state in enumerate(state_marks):\n",
    "        state = state.strip()\n",
    "        if state not in names:\n",
    "            names[state] = []\n",
    "        names[state] += divisions[i]"
   ]
  },
  {
   "cell_type": "markdown",
   "metadata": {},
   "source": [
    "Como é possível ver, o resgaste dos nomes dos advogados é bastante demorado. Por isso, o dicionário foi exportado para um arquivo json, para reduzir tempo de futuras coletas."
   ]
  },
  {
   "cell_type": "code",
   "execution_count": 92,
   "metadata": {},
   "outputs": [],
   "source": [
    "with open(\"names.json\", \"w\") as output_file:\n",
    "    json.dump(names, output_file)"
   ]
  },
  {
   "cell_type": "markdown",
   "metadata": {},
   "source": [
    "Após a recuperação dos dados do arquivo JSON, incia-se a recuperação dos processos"
   ]
  },
  {
   "cell_type": "code",
   "execution_count": 3,
   "metadata": {},
   "outputs": [],
   "source": [
    "with open(\"names.json\") as file:\n",
    "    names = json.load(file)"
   ]
  },
  {
   "cell_type": "markdown",
   "metadata": {},
   "source": [
    "## Coleta dos processos\n",
    "Agora, os processos são coletados sequencialmente a partir de buscas no site do PJE do Ceará. São realizadas buscas pelo nome do advogado, e o resultados são coletados e armazenados em um lista de dicionários. Esses dicionários registram:\n",
    "- Número do processo\n",
    "- Data\n",
    "- Jurisdição\n",
    "- Classe judicial\n",
    "- Assunto do processo\n",
    "- Órgão julgador\n",
    "- Participantes do Polo Ativo\n",
    "- Participantes do Polo Passivo\n",
    "- Lista de movimentações dos processos"
   ]
  },
  {
   "cell_type": "code",
   "execution_count": 40,
   "metadata": {},
   "outputs": [],
   "source": [
    "driver = webdriver.Firefox()\n",
    "driver.get(\"https://pje.tjce.jus.br/pje1grau/ConsultaPublica/listView.seam\")\n",
    "\n",
    "base_path = \"https://pje.tjce.jus.br\"\n",
    "\n",
    "input = driver.find_element(By.ID, \"fPP:j_id165:nomeAdv\")\n",
    "submit_btn = driver.find_element(By.ID, \"fPP:searchProcessos\")\n",
    "\n",
    "processos = []\n",
    "\n",
    "def parse_td(td):\n",
    "    title = td.find_element(By.CLASS_NAME, \"name\")\n",
    "    title = title.text.strip()\n",
    "    content = td.find_element(By.CLASS_NAME, \"value\")\n",
    "    content = content.text.strip() \n",
    "    return (title, content)\n",
    "\n",
    "def parse_tr(tr):\n",
    "    tds = tr.find_elements(By.TAG_NAME, \"td\")\n",
    "    nome = tds[0]\n",
    "    nome = nome.text.strip()\n",
    "    status = tds[1]\n",
    "    status = status.text.strip()\n",
    "    return {'nome': nome, 'status': status}\n",
    "\n",
    "for name in names['CE'][-1:0:-1]:\n",
    "    driver.get(\"https://pje.tjce.jus.br/pje1grau/ConsultaPublica/listView.seam\")\n",
    "    input = driver.find_element(By.ID, \"fPP:j_id165:nomeAdv\")\n",
    "    submit_btn = driver.find_element(By.ID, \"fPP:searchProcessos\")\n",
    "\n",
    "    name = name.replace(\"  \", \" \")\n",
    "    input.clear()\n",
    "    input.send_keys(name)\n",
    "    submit_btn.click()\n",
    "\n",
    "    try:\n",
    "        wait = WebDriverWait(driver, 10)\n",
    "        element = wait.until(EC.invisibility_of_element_located((By.ID, '_viewRoot:status.start')))\n",
    "    except:\n",
    "        continue\n",
    "\n",
    "    table = driver.find_element(By.ID, \"fPP:processosTable:tb\")\n",
    "    results = table.find_elements(By.CSS_SELECTOR, \"tr td a\")\n",
    "\n",
    "    if len(results) == 0:\n",
    "        continue\n",
    "\n",
    "    results = [result.get_attribute('onclick') for result in results]\n",
    "    results = [result[:-2].replace(\"openPopUp('Consulta pública','\", \"\") for result in results]\n",
    "    results = list(dict.fromkeys(results))\n",
    "\n",
    "    for result in results:\n",
    "        processo = {\n",
    "            'numero': None,\n",
    "            'data': None,\n",
    "            'jurisdicao': None,\n",
    "            'classe_judicial': None,\n",
    "            'assunto' : [],\n",
    "            'orgao_julgador': None,\n",
    "            'polo_ativo': [],\n",
    "            'polo_passivo': [],\n",
    "            'movimentacao': [],\n",
    "        }\n",
    "\n",
    "        driver.get(base_path + result)\n",
    "        general_data = driver.find_element(By.ID, \"j_id131\")\n",
    "        general_data = general_data.find_elements(By.TAG_NAME, \"td\")\n",
    "        general_data = dict([parse_td(td) for td in general_data])\n",
    "        \n",
    "        processo['numero'] = general_data['Número Processo'].strip()\n",
    "        processo['data'] = general_data['Data da Distribuição'].strip()\n",
    "        processo['jurisdicao'] = general_data['Jurisdição'].strip()\n",
    "        processo['classe_judicial'] = general_data['Classe Judicial'].strip()\n",
    "        processo['assunto'] = general_data['Assunto'].strip()\n",
    "        processo['orgao_julgador'] = general_data['Órgão Julgador'].strip()\n",
    "\n",
    "        polo_ativo = driver.find_element(By.ID, \"j_id131:processoPartesPoloAtivoResumidoList:tb\")\n",
    "        polo_ativo = polo_ativo.find_elements(By.CSS_SELECTOR, \"tbody tr\")\n",
    "        polo_ativo = [parse_tr(tr) for tr in polo_ativo]\n",
    "        processo['polo_ativo'] = polo_ativo\n",
    "\n",
    "        polo_passivo = driver.find_element(By.ID, \"j_id131:processoPartesPoloPassivoResumidoList:tb\")\n",
    "        polo_passivo = polo_passivo.find_elements(By.CSS_SELECTOR, \"table tbody tr\")\n",
    "        polo_passivo = [parse_tr(tr) for tr in polo_passivo]\n",
    "        processo['polo_passivo'] = polo_passivo\n",
    "\n",
    "        movimentacao = driver.find_element(By.ID, \"j_id131:processoEventoPanel\")\n",
    "        movimentacao = movimentacao.find_elements(By.CSS_SELECTOR, \"tbody td:nth-child(1)\")\n",
    "        movimentacao = [td.text.strip() for td in movimentacao if len(td.text.strip()) > 0]\n",
    "        processo['movimentacao'] = movimentacao\n",
    "\n",
    "        processos.append(processo)\n"
   ]
  }
 ],
 "metadata": {
  "kernelspec": {
   "display_name": "Python 3.10.7 64-bit",
   "language": "python",
   "name": "python3"
  },
  "language_info": {
   "codemirror_mode": {
    "name": "ipython",
    "version": 3
   },
   "file_extension": ".py",
   "mimetype": "text/x-python",
   "name": "python",
   "nbconvert_exporter": "python",
   "pygments_lexer": "ipython3",
   "version": "3.10.7"
  },
  "orig_nbformat": 4,
  "vscode": {
   "interpreter": {
    "hash": "e7370f93d1d0cde622a1f8e1c04877d8463912d04d973331ad4851f04de6915a"
   }
  }
 },
 "nbformat": 4,
 "nbformat_minor": 2
}
